{
 "cells": [
  {
   "cell_type": "markdown",
   "id": "761fb089-0e53-4063-a075-72f6d1e38843",
   "metadata": {},
   "source": [
    "# Ejercicio 5"
   ]
  },
  {
   "cell_type": "markdown",
   "id": "b1098ebc-1a78-4317-a21d-c70252835920",
   "metadata": {},
   "source": [
    "## Consigna principal\n",
    "Para este challenge te proponemos hacer un diseño y propuesta de experimentación\n",
    "en producción y te dejamos algunas preguntas a modo de guia:\n",
    "* ¿Que tipo de enfoque utilizar para definir en que % de posiciones explorar y en\n",
    "que % explotar?\n",
    "* ¿Qué métrica usarías para medir este experimento?\n",
    "* ¿Cómo aprovecharías la interacción y el feedback de los usuarios?"
   ]
  },
  {
   "cell_type": "markdown",
   "id": "1af65081-29c7-4f18-967d-5f51f777160e",
   "metadata": {},
   "source": [
    "Supongamos que inicialmente, como dice la consigna \"..productos que sabemos funcionan bien en estas posiciones..\", contamos con las posiciones que son más elegidas por los usuarios, por ejemplo tenemos la matríz $M_{explotacion}$ de 3x3 donde la probabilidad de que el usuario realice click sobre un elemento se puede observar en sus valores"
   ]
  },
  {
   "cell_type": "code",
   "execution_count": 5,
   "id": "80871393-84dd-4898-afda-44d752b75fd5",
   "metadata": {},
   "outputs": [
    {
     "data": {
      "text/plain": [
       "array([[0.13049041, 0.04189334, 0.11532943],\n",
       "       [0.02811703, 0.16594973, 0.21955873],\n",
       "       [0.02587554, 0.18657292, 0.08621286]])"
      ]
     },
     "execution_count": 5,
     "metadata": {},
     "output_type": "execute_result"
    }
   ],
   "source": [
    "import numpy as np\n",
    "explotacion = np.random.rand(3, 3)\n",
    "explotacion / explotacion.sum()"
   ]
  },
  {
   "cell_type": "markdown",
   "id": "fd2422fa-1cc1-4c54-9b97-ac6d620834ec",
   "metadata": {},
   "source": [
    "En este caso utilizamos valores aleatorios. \n",
    "Esta matriz de probabilidades de que un usuario que solo observa productos de explotación nos permite identificar un sesgo hacia la selección de una posición sobre otras posiciones.\n",
    "\n",
    "Ahora supongamos que elegimos una posición al azar para reemplazar el producto de explotación por un producto de exploración, sea esta posición $P_{i,j}$, esto provocará que la distribución de probabilidades inicial se modifique ya que estamos agregando un \"atractor\" o producto que atrae la atención sobre el usuario. \n",
    "Obtenemos entonces la matriz $M_{exploracion,1}$. Podemos entonces realizar la diferencia entre matrices para obtener $M_{1} = M_{exploracion, 1} - M_{explotacion}$ para evidenciar el efecto de agregar un producto de exploración. \n",
    "\n",
    "Valores negativos en $M_1$ indican que la probabilidad de que seleccione ese producto disminuyó ante el agregado de un atractor, en el caso de que el valor ${M_{1}}_{i,j}$ sea negativo indica que el producto de exploración no es un buen atractor.\n"
   ]
  },
  {
   "cell_type": "markdown",
   "id": "8e3bc10a-77e9-4e94-a765-882cd6b0e053",
   "metadata": {},
   "source": [
    "Ahora bien para poder determinar la bondad de un atractor colocado en una posición al azar debemos comprobar que el valor de la matriz ${M_{1}}_{i,j}$ sea mayor a cero, no solo eso sino que también debemos mensurar la perturbación que genera en el resto de los valores y para hacer esto podemos calcular el promedio de los valores en posiciones diferentes de $i,j$ en la matriz $M_1$, mientras más negativo sea este valor mejor será el rendimiento de mi producto de exploración.\n",
    "\n",
    "Dicho cálculo se puede generalizar para $n$ atractores en la misma matriz y se puede realizar el análisis por cada atractor o en conjunto tomando el promedio de los valores de probabilidad en las posiciones que ocupan estos atractores."
   ]
  },
  {
   "cell_type": "markdown",
   "id": "700c383c-3474-40f7-b81e-0dda687f0258",
   "metadata": {},
   "source": [
    "# Respuesta a las preguntas"
   ]
  },
  {
   "cell_type": "markdown",
   "id": "e1ba4458-dac6-49db-bad2-87acaafd6381",
   "metadata": {},
   "source": [
    "## ¿Que tipo de enfoque utilizar para definir en que % de posiciones explorar y en que % explotar?\n",
    "Utilizaría un enfoque probabilistico basado en la frecuencia y tendencia que tiene el o un grupo de usuarios a seleccionar una u otra posición. Mediante el método anterior podemos definir el porcentaje de posiciones a utilizar en base al promedio obtenido de:\n",
    "\n",
    "$$\n",
    "Score = \\frac{prom({M_1}_{i,j}) - prom({M_{explotacion}}_{i,j})}{prom({M_{1}}_{k\\ne i,l\\ne j}) - prom({M_{explotacion}}_{k\\ne i,l\\ne j})}\n",
    "$$"
   ]
  },
  {
   "cell_type": "markdown",
   "id": "4dc36d51-b7ce-4518-8efb-d5e276cba1cb",
   "metadata": {},
   "source": [
    "mediante este método dado un set de proporción de atractores podemos definir cual es la propoción adecuada tomando la proporción cuyo valor $Score$ sea más negativo"
   ]
  },
  {
   "cell_type": "markdown",
   "id": "6513a4c2-5222-42f5-880d-536b67000ec2",
   "metadata": {},
   "source": [
    "## ¿Qué métrica usarías para medir este experimento?\n",
    "La métrica a utilizar fué descripta anteriormente"
   ]
  },
  {
   "cell_type": "markdown",
   "id": "5645a32c-98d4-49be-ae58-5418f5613711",
   "metadata": {},
   "source": [
    "## ¿Cómo aprovecharías la interacción y el feedback de los usuarios?\n",
    "Lo aprovecharía para poder determinar la propoción óptima porque me permite calcular el Score del o los atractores. "
   ]
  },
  {
   "cell_type": "code",
   "execution_count": null,
   "id": "38dc4467-48b9-4fd1-9fed-de7445d3b0ee",
   "metadata": {},
   "outputs": [],
   "source": []
  }
 ],
 "metadata": {
  "kernelspec": {
   "display_name": "Python 3 (ipykernel)",
   "language": "python",
   "name": "python3"
  },
  "language_info": {
   "codemirror_mode": {
    "name": "ipython",
    "version": 3
   },
   "file_extension": ".py",
   "mimetype": "text/x-python",
   "name": "python",
   "nbconvert_exporter": "python",
   "pygments_lexer": "ipython3",
   "version": "3.8.10"
  }
 },
 "nbformat": 4,
 "nbformat_minor": 5
}
